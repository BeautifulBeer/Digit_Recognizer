{
 "cells": [
  {
   "cell_type": "code",
   "execution_count": 1,
   "metadata": {},
   "outputs": [
    {
     "data": {
      "text/plain": [
       "<module 'preprocessing' from 'C:\\\\Users\\\\dbsrh\\\\OneDrive\\\\Desktop\\\\Pytorch\\\\kaggle_digit_recognizer\\\\preprocessing.py'>"
      ]
     },
     "execution_count": 1,
     "metadata": {},
     "output_type": "execute_result"
    }
   ],
   "source": [
    "import numpy as np\n",
    "import torch\n",
    "import torchvision\n",
    "import torch.nn.functional as F\n",
    "from torch.utils.data import DataLoader\n",
    "import preprocessing\n",
    "# import training\n",
    "import importlib\n",
    "import pandas as pd\n",
    "\n",
    "importlib.reload(preprocessing)\n",
    "# importlib.reload(training)"
   ]
  },
  {
   "cell_type": "code",
   "execution_count": 40,
   "metadata": {},
   "outputs": [],
   "source": [
    "class Model(torch.nn.Module):\n",
    "    def __init__(self):\n",
    "        super(Model, self).__init__()\n",
    "        self.conv1 = torch.nn.Conv2d(1, 10, kernel_size=3)\n",
    "        self.conv2 = torch.nn.Conv2d(10, 15, kernel_size=3)\n",
    "        self.fc1 = torch.nn.Linear(375, 50)\n",
    "        self.fc2 = torch.nn.Linear(50, 10)\n",
    "        \n",
    "    def forward(self, x):\n",
    "        # 28 X 28 --> 26 X 26 --> 13 X 13\n",
    "        x = self.conv1(x)\n",
    "        x = F.relu(F.max_pool2d(x, 2))\n",
    "        # 13 X 13 --> 11 X 11 --> 5 X 5\n",
    "        x = F.relu(F.max_pool2d(self.conv2(x), 2))\n",
    "        # 5 X 5 X 15\n",
    "        x = x.view(-1, 375)\n",
    "        x = self.fc1(x)\n",
    "        x = F.dropout(x, p=0.3, training=self.training)\n",
    "        x = self.fc2(x)\n",
    "        return F.log_softmax(x, dim=1)"
   ]
  },
  {
   "cell_type": "code",
   "execution_count": 3,
   "metadata": {},
   "outputs": [],
   "source": [
    "# Define CNN model\n",
    "model_ft = Model()\n",
    "\n",
    "if torch.cuda.is_available():\n",
    "    model_ft.cuda()\n",
    "\n",
    "# Define image data transforms\n",
    "transforms = torchvision.transforms.Compose([\n",
    "    torchvision.transforms.ToPILImage(),\n",
    "    torchvision.transforms.Resize((28, 28)),\n",
    "    torchvision.transforms.ToTensor(),\n",
    "    torchvision.transforms.Normalize([0.5], [0.5])\n",
    "])\n",
    "\n",
    "\n",
    "# Load data\n",
    "valid_fraction = 0.1\n",
    "\n",
    "csv_file = pd.read_csv('./digit-recognizer/train.csv')\n",
    "csv_file = csv_file.to_numpy().astype('uint8')\n",
    "\n",
    "boundary = int(len(csv_file) * (1 - 0.1))\n",
    "\n",
    "train_data = preprocessing.DigitDataset(csv_file[:boundary], transforms, phase='training')\n",
    "valid_data = preprocessing.DigitDataset(csv_file[boundary:], transforms, phase='training')\n",
    "\n",
    "train_data_loader = DataLoader(\n",
    "    train_data,\n",
    "    batch_size = 32,\n",
    "    shuffle = True,\n",
    "    num_workers = 3\n",
    ")\n",
    "\n",
    "valid_data_loader = DataLoader(\n",
    "    valid_data,\n",
    "    batch_size = 32,\n",
    "    shuffle = True,\n",
    "    num_workers = 3\n",
    ")\n",
    "\n",
    "datasets = {'train' : train_data_loader, 'valid' : valid_data_loader}\n",
    "datasets_size = {'train' : len(train_data_loader.dataset), 'valid' : len(valid_data_loader.dataset)}"
   ]
  },
  {
   "cell_type": "code",
   "execution_count": 4,
   "metadata": {},
   "outputs": [],
   "source": [
    "optimizer_ft = torch.optim.Adam(model_ft.parameters(), lr=0.01)\n",
    "scheduler_ft = torch.optim.lr_scheduler.StepLR(optimizer_ft, step_size=7)"
   ]
  },
  {
   "cell_type": "code",
   "execution_count": 41,
   "metadata": {},
   "outputs": [
    {
     "name": "stdout",
     "output_type": "stream",
     "text": [
      "-------------- Epoch 0 --------------\n"
     ]
    },
    {
     "name": "stderr",
     "output_type": "stream",
     "text": [
      "E:\\Users\\dbsrh\\Anaconda3\\envs\\pytorch\\lib\\site-packages\\ipykernel_launcher.py:20: UserWarning: Implicit dimension choice for log_softmax has been deprecated. Change the call to include dim=X as an argument.\n"
     ]
    },
    {
     "name": "stdout",
     "output_type": "stream",
     "text": [
      "train Epoch Losses : 0.2616\n",
      "train Epoch Accuracy : 0.9231\n",
      "valid Epoch Losses : 0.2272\n",
      "valid Epoch Accuracy : 0.9348\n",
      "-------------- Epoch 1 --------------\n",
      "train Epoch Losses : 0.2559\n",
      "train Epoch Accuracy : 0.9242\n",
      "valid Epoch Losses : 0.2226\n",
      "valid Epoch Accuracy : 0.9374\n",
      "-------------- Epoch 2 --------------\n",
      "train Epoch Losses : 0.2478\n",
      "train Epoch Accuracy : 0.9279\n",
      "valid Epoch Losses : 0.2159\n",
      "valid Epoch Accuracy : 0.9388\n",
      "-------------- Epoch 3 --------------\n",
      "train Epoch Losses : 0.2421\n",
      "train Epoch Accuracy : 0.9289\n",
      "valid Epoch Losses : 0.2119\n",
      "valid Epoch Accuracy : 0.9407\n",
      "-------------- Epoch 4 --------------\n",
      "train Epoch Losses : 0.2368\n",
      "train Epoch Accuracy : 0.9317\n",
      "valid Epoch Losses : 0.2060\n",
      "valid Epoch Accuracy : 0.9414\n",
      "-------------- Epoch 5 --------------\n",
      "train Epoch Losses : 0.2300\n",
      "train Epoch Accuracy : 0.9324\n",
      "valid Epoch Losses : 0.2016\n",
      "valid Epoch Accuracy : 0.9429\n",
      "-------------- Epoch 6 --------------\n",
      "train Epoch Losses : 0.2277\n",
      "train Epoch Accuracy : 0.9346\n",
      "valid Epoch Losses : 0.2005\n",
      "valid Epoch Accuracy : 0.9426\n",
      "-------------- Epoch 7 --------------\n",
      "train Epoch Losses : 0.2268\n",
      "train Epoch Accuracy : 0.9338\n",
      "valid Epoch Losses : 0.1999\n",
      "valid Epoch Accuracy : 0.9421\n",
      "-------------- Epoch 8 --------------\n",
      "train Epoch Losses : 0.2250\n",
      "train Epoch Accuracy : 0.9340\n",
      "valid Epoch Losses : 0.1996\n",
      "valid Epoch Accuracy : 0.9431\n",
      "-------------- Epoch 9 --------------\n",
      "train Epoch Losses : 0.2252\n",
      "train Epoch Accuracy : 0.9350\n",
      "valid Epoch Losses : 0.1991\n",
      "valid Epoch Accuracy : 0.9429\n"
     ]
    },
    {
     "data": {
      "text/plain": [
       "([tensor(0.2616, device='cuda:0', grad_fn=<DivBackward0>),\n",
       "  tensor(0.2559, device='cuda:0', grad_fn=<DivBackward0>),\n",
       "  tensor(0.2478, device='cuda:0', grad_fn=<DivBackward0>),\n",
       "  tensor(0.2421, device='cuda:0', grad_fn=<DivBackward0>),\n",
       "  tensor(0.2368, device='cuda:0', grad_fn=<DivBackward0>),\n",
       "  tensor(0.2300, device='cuda:0', grad_fn=<DivBackward0>),\n",
       "  tensor(0.2277, device='cuda:0', grad_fn=<DivBackward0>),\n",
       "  tensor(0.2268, device='cuda:0', grad_fn=<DivBackward0>),\n",
       "  tensor(0.2250, device='cuda:0', grad_fn=<DivBackward0>),\n",
       "  tensor(0.2252, device='cuda:0', grad_fn=<DivBackward0>)],\n",
       " [tensor(0.2272, device='cuda:0', grad_fn=<DivBackward0>),\n",
       "  tensor(0.2226, device='cuda:0', grad_fn=<DivBackward0>),\n",
       "  tensor(0.2159, device='cuda:0', grad_fn=<DivBackward0>),\n",
       "  tensor(0.2119, device='cuda:0', grad_fn=<DivBackward0>),\n",
       "  tensor(0.2060, device='cuda:0', grad_fn=<DivBackward0>),\n",
       "  tensor(0.2016, device='cuda:0', grad_fn=<DivBackward0>),\n",
       "  tensor(0.2005, device='cuda:0', grad_fn=<DivBackward0>),\n",
       "  tensor(0.1999, device='cuda:0', grad_fn=<DivBackward0>),\n",
       "  tensor(0.1996, device='cuda:0', grad_fn=<DivBackward0>),\n",
       "  tensor(0.1991, device='cuda:0', grad_fn=<DivBackward0>)])"
      ]
     },
     "execution_count": 41,
     "metadata": {},
     "output_type": "execute_result"
    }
   ],
   "source": [
    "training(model_ft, datasets, optimizer_ft, scheduler_ft)"
   ]
  },
  {
   "cell_type": "code",
   "execution_count": null,
   "metadata": {},
   "outputs": [],
   "source": []
  },
  {
   "cell_type": "code",
   "execution_count": null,
   "metadata": {},
   "outputs": [],
   "source": []
  },
  {
   "cell_type": "code",
   "execution_count": null,
   "metadata": {},
   "outputs": [],
   "source": []
  }
 ],
 "metadata": {
  "kernelspec": {
   "display_name": "Python 3",
   "language": "python",
   "name": "python3"
  }
 },
 "nbformat": 4,
 "nbformat_minor": 4
}
