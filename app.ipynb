{
 "cells": [
  {
   "cell_type": "code",
   "execution_count": 6,
   "metadata": {},
   "outputs": [
    {
     "data": {
      "text/plain": [
       "<module 'preprocessing' from 'C:\\\\Users\\\\dbsrh\\\\OneDrive\\\\Desktop\\\\Pytorch\\\\kaggle_digit_recognizer\\\\preprocessing.py'>"
      ]
     },
     "execution_count": 6,
     "metadata": {},
     "output_type": "execute_result"
    }
   ],
   "source": [
    "import torch\n",
    "import torch.nn.functional as F\n",
    "from torch.utils.data import DataLoader\n",
    "import preprocessing\n",
    "import importlib\n",
    "\n",
    "importlib.reload(preprocessing)"
   ]
  },
  {
   "cell_type": "code",
   "execution_count": 3,
   "metadata": {},
   "outputs": [],
   "source": [
    "class Model(torch.nn.Module):\n",
    "    def __init__(self):\n",
    "        super(Model, self).__init__()\n",
    "        self.conv1 = torch.nn.Conv2d(1, 10, kernel_size=3)\n",
    "        self.conv2 = torch.nn.Conv2d(10, 15, kernel_size=3)\n",
    "        self.fc1 = torch.nn.Linear(375, 50)\n",
    "        self.fc2 = torch.nn.Linear(50, 10)\n",
    "        \n",
    "    def forward(self, x):\n",
    "        # 28 X 28 --> 26 X 26 --> 13 X 13\n",
    "        x = F.relu(F.max_pool2d(self.conv1(x), 2))\n",
    "        # 13 X 13 --> 11 X 11 --> 5 X 5\n",
    "        x = F.relu(F.max_pool2d(self.conv2(x), 2))\n",
    "        # 5 X 5 X 15\n",
    "        x = x.view(-1, 375)\n",
    "        x = self.fc1(x)\n",
    "        x = F.dropout(x, p=0.3, training=self.training)\n",
    "        x = self.fc2(x)\n",
    "        return F.log_softmax(x)"
   ]
  },
  {
   "cell_type": "code",
   "execution_count": 13,
   "metadata": {},
   "outputs": [
    {
     "name": "stdout",
     "output_type": "stream",
     "text": [
      "42000\n"
     ]
    }
   ],
   "source": [
    "# Define CNN model\n",
    "model_ft = Model()\n",
    "\n",
    "# Load data\n",
    "valid_fraction = 0.1\n",
    "train_data = preprocessing.DigitDataset('./digit-recognizer/train.csv')\n",
    "boundary = int(len(train_data) * (1 - 0.1))\n",
    "\n",
    "train_data_loader = DataLoader(\n",
    "    train_data[:boundary],\n",
    "    batch_size = 32,\n",
    "    shuffle = True,\n",
    "    num_workers = 3\n",
    ")\n",
    "\n",
    "valid_data_loader = DataLoader(\n",
    "    train_data[:boundary],\n",
    "    batch_size = 32,\n",
    "    shuffle = True,\n",
    "    num_workers = 3\n",
    ")\n",
    "\n",
    "datasets = {'train' : train_data_loader, 'valid' : valid_data_loader}\n",
    "datasets_size = {'train' : len(train_data_loader.dataset), 'valid' : len(valid_data_loader.dataset)}"
   ]
  },
  {
   "cell_type": "code",
   "execution_count": null,
   "metadata": {},
   "outputs": [],
   "source": []
  },
  {
   "cell_type": "code",
   "execution_count": null,
   "metadata": {},
   "outputs": [],
   "source": []
  }
 ],
 "metadata": {
  "kernelspec": {
   "display_name": "Python 3",
   "language": "python",
   "name": "python3"
  },
  "language_info": {
   "codemirror_mode": {
    "name": "ipython",
    "version": 3
   },
   "file_extension": ".py",
   "mimetype": "text/x-python",
   "name": "python",
   "nbconvert_exporter": "python",
   "pygments_lexer": "ipython3",
   "version": "3.7.6"
  }
 },
 "nbformat": 4,
 "nbformat_minor": 4
}
