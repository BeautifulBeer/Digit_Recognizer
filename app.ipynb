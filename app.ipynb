{
 "cells": [
  {
   "cell_type": "code",
   "execution_count": 3,
   "metadata": {},
   "outputs": [
    {
     "name": "stdout",
     "output_type": "stream",
     "text": [
      "Loaded Libraries\n"
     ]
    }
   ],
   "source": [
    "import numpy as np\n",
    "import pandas as pd\n",
    "import matplotlib.pyplot as plt\n",
    "import torch\n",
    "import torchvision\n",
    "import torch.nn.functional as F\n",
    "from torch.utils.data import DataLoader\n",
    "import preprocessing\n",
    "import training\n",
    "import testing\n",
    "import importlib\n",
    "\n",
    "importlib.reload(preprocessing)\n",
    "importlib.reload(training)\n",
    "importlib.reload(testing)\n",
    "\n",
    "print('Loaded Libraries')"
   ]
  },
  {
   "cell_type": "code",
   "execution_count": 4,
   "metadata": {},
   "outputs": [],
   "source": [
    "# Customized CNN Model\n",
    "class Model(torch.nn.Module):\n",
    "    def __init__(self):\n",
    "        super(Model, self).__init__()\n",
    "        self.conv1 = torch.nn.Conv2d(1, 10, kernel_size=3)\n",
    "        self.conv2 = torch.nn.Conv2d(10, 15, kernel_size=3)\n",
    "        self.fc1 = torch.nn.Linear(375, 50)\n",
    "        self.fc2 = torch.nn.Linear(50, 10)\n",
    "        \n",
    "    def forward(self, x):\n",
    "        # 28 X 28 --> 26 X 26 --> 13 X 13\n",
    "        x = self.conv1(x)\n",
    "        x = F.relu(F.max_pool2d(x, 2))\n",
    "        # 13 X 13 --> 11 X 11 --> 5 X 5\n",
    "        x = F.relu(F.max_pool2d(self.conv2(x), 2))\n",
    "        # 5 X 5 X 15\n",
    "        x = x.view(-1, 375)\n",
    "        x = self.fc1(x)\n",
    "        x = F.dropout(x, p=0.5, training=self.training)\n",
    "        x = self.fc2(x)\n",
    "        return F.log_softmax(x, dim=1)"
   ]
  },
  {
   "cell_type": "code",
   "execution_count": 5,
   "metadata": {},
   "outputs": [],
   "source": [
    "# Define CNN model\n",
    "model_ft = Model()\n",
    "\n",
    "if torch.cuda.is_available():\n",
    "    model_ft.cuda()\n",
    "\n",
    "# Define image data transforms\n",
    "transforms = torchvision.transforms.Compose([\n",
    "    torchvision.transforms.ToPILImage(),\n",
    "    torchvision.transforms.Resize((28, 28)),\n",
    "    torchvision.transforms.ToTensor(),\n",
    "    torchvision.transforms.Normalize([0.5], [0.5])\n",
    "])\n",
    "\n",
    "\n",
    "# Load data\n",
    "valid_fraction = 0.1\n",
    "\n",
    "train_file = pd.read_csv('./digit-recognizer/train.csv')\n",
    "# convert dataframe of pandas into numpy array\n",
    "train_file = train_file.to_numpy().astype('uint8')\n",
    "\n",
    "boundary = int(len(train_file) * (1 - valid_fraction))\n",
    "\n",
    "train_data = preprocessing.DigitDataset(train_file[:boundary], transforms, phase='training')\n",
    "valid_data = preprocessing.DigitDataset(train_file[boundary:], transforms, phase='training')\n",
    "\n",
    "train_data_loader = DataLoader(\n",
    "    train_data,\n",
    "    batch_size = 64,\n",
    "    shuffle = True,\n",
    "    num_workers = 3\n",
    ")\n",
    "\n",
    "valid_data_loader = DataLoader(\n",
    "    valid_data,\n",
    "    batch_size = 64,\n",
    "    shuffle = True,\n",
    "    num_workers = 3\n",
    ")\n",
    "\n",
    "datasets = {'train' : train_data_loader, 'valid' : valid_data_loader}\n",
    "datasets_size = {'train' : len(train_data_loader.dataset), 'valid' : len(valid_data_loader.dataset)}"
   ]
  },
  {
   "cell_type": "code",
   "execution_count": 4,
   "metadata": {},
   "outputs": [],
   "source": [
    "# It was meaningless that to set 'epochs' value over 20\n",
    "epochs = 20\n",
    "optimizer_ft = torch.optim.Adam(model_ft.parameters(), lr=0.001)\n",
    "scheduler_ft = torch.optim.lr_scheduler.StepLR(optimizer_ft, step_size=7)"
   ]
  },
  {
   "cell_type": "code",
   "execution_count": null,
   "metadata": {
    "scrolled": true
   },
   "outputs": [],
   "source": [
    "train_loss, valid_loss = training.training(model_ft, datasets, datasets_size, optimizer_ft, scheduler_ft, epochs=epochs)"
   ]
  },
  {
   "cell_type": "code",
   "execution_count": 6,
   "metadata": {},
   "outputs": [
    {
     "data": {
      "image/png": "[encoded data removed]",
      "text/plain": [
       "<Figure size 432x288 with 1 Axes>"
      ]
     },
     "metadata": {
      "needs_background": "light"
     },
     "output_type": "display_data"
    }
   ],
   "source": [
    "# Draw loss graph for training\n",
    "epoch_x = range(1, epochs + 1)\n",
    "plt.plot(epoch_x, train_loss, 'r', epoch_x, valid_loss, 'b')\n",
    "plt.xlabel('epochs')\n",
    "plt.ylabel('loss')\n",
    "plt.show()"
   ]
  },
  {
   "cell_type": "code",
   "execution_count": 7,
   "metadata": {},
   "outputs": [],
   "source": [
    "# Load test dataset\n",
    "test_file = pd.read_csv('./digit-recognizer/test.csv')\n",
    "test_file = test_file.to_numpy().astype('uint8')\n",
    "\n",
    "test_data = preprocessing.DigitDataset(test_file, transforms, phase='testing')\n",
    "\n",
    "test_data_loader = DataLoader(\n",
    "    test_data,\n",
    "    batch_size = 16,\n",
    "    num_workers = 3\n",
    ")"
   ]
  },
  {
   "cell_type": "code",
   "execution_count": 8,
   "metadata": {},
   "outputs": [],
   "source": [
    "# Load best model\n",
    "model_ft = Model()\n",
    "model_ft.load_state_dict(torch.load('final_model.pth'))\n",
    "\n",
    "if torch.cuda.is_available():\n",
    "    model_ft.cuda()\n",
    "\n",
    "# Test the model\n",
    "result = testing.testing(model_ft, test_data_loader)"
   ]
  },
  {
   "cell_type": "code",
   "execution_count": 9,
   "metadata": {},
   "outputs": [],
   "source": [
    "# Export result as csv file in form of Kaggle\n",
    "submission = pd.DataFrame({\n",
    "    'ImageId' : range(1, len(result) + 1),\n",
    "    'Label' : result\n",
    "},columns=['ImageId', 'Label'])\n",
    "submission.to_csv('submission.csv', index=False)"
   ]
  }
 ],
 "metadata": {
  "kernelspec": {
   "display_name": "Python 3",
   "language": "python",
   "name": "python3"
  },
  "language_info": {
   "codemirror_mode": {
    "name": "ipython",
    "version": 3
   },
   "file_extension": ".py",
   "mimetype": "text/x-python",
   "name": "python",
   "nbconvert_exporter": "python",
   "pygments_lexer": "ipython3",
   "version": "3.7.6"
  }
 },
 "nbformat": 4,
 "nbformat_minor": 4
}
