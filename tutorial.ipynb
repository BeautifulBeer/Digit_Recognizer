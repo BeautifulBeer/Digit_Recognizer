{
 "cells": [
  {
   "cell_type": "code",
   "execution_count": 10,
   "metadata": {},
   "outputs": [],
   "source": [
    "import torch\n",
    "import matplotlib.pyplot as plt\n",
    "import torch.nn.functional as F\n",
    "from torchvision import transforms, datasets"
   ]
  },
  {
   "cell_type": "code",
   "execution_count": 11,
   "metadata": {},
   "outputs": [],
   "source": [
    "class Network(torch.nn.Module):\n",
    "    def __init__(self):\n",
    "        super().__init__()\n",
    "        self.conv1 = torch.nn.Conv2d(1, 10, kernel_size=5)\n",
    "        self.conv2 = torch.nn.Conv2d(10, 20, kernel_size=5)\n",
    "        self.conv2_drop = torch.nn.Dropout2d()\n",
    "        self.fc1 = torch.nn.Linear(320, 50)\n",
    "        self.fc2 = torch.nn.Linear(50, 10)\n",
    "\n",
    "    def forward(self, x):\n",
    "        # 28 X 28 --> 24 X 24(by convolution) --> 12 X 12 (by max_pool2d)\n",
    "        x = F.relu(F.max_pool2d(self.conv1(x), 2))\n",
    "        # 12 X 12 --> 8 X 8(by convolution) --> 4 X 4 (by max_pool2d)\n",
    "        x = F.relu(F.max_pool2d(self.conv2_drop(self.conv2(x)), 2))\n",
    "        # 4 X 4 X 20 == 320\n",
    "        x = x.view(-1, 320)\n",
    "        x = F.relu(self.fc1(x))\n",
    "        x = F.dropout(x, training=self.training)\n",
    "        x = self.fc2(x)\n",
    "        return F.log_softmax(x)\n",
    "    \n",
    "        \n",
    "def fit(epoch, model, data_loader, phase='training', volatile=False):\n",
    "    if phase == 'training':\n",
    "        model.train()\n",
    "    if phase == 'validation':\n",
    "        model.eval()\n",
    "        volatile=True\n",
    "    \n",
    "    running_loss = 0.0\n",
    "    running_correct = 0\n",
    "    \n",
    "    for batch_idx, (data, target) in enumerate(data_loader):\n",
    "        if torch.cuda.is_available():\n",
    "            data, target = data.cuda(), target.cuda()\n",
    "        \n",
    "        if phase == 'training':\n",
    "            optimizer.zero_grad()\n",
    "        \n",
    "        output = model(data)\n",
    "        loss = torch.nn.functional.nll_loss(output, target)\n",
    "        \n",
    "        running_loss += torch.nn.functional.nll_loss(output, target, reduction='none').data[0]\n",
    "        preds = output.data.max(dim=1, keepdim=True)[1]\n",
    "        running_correct += preds.eq(target.data.view_as(preds)).cpu().sum()\n",
    "        \n",
    "        if phase == 'training':\n",
    "            loss.backward()\n",
    "            optimizer.step()\n",
    "        \n",
    "    loss = running_loss / len(data_loader.dataset)\n",
    "    accuracy = 100. * running_correct / len(data_loader.dataset)\n",
    "        \n",
    "    print(f'{phase} loss is {loss:5.2f} and {phase} accuracy is {running_correct} / {len(data_loader.dataset)} {accuracy:10.4f}')\n",
    "    return loss, accuracy"
   ]
  },
  {
   "cell_type": "code",
   "execution_count": 14,
   "metadata": {},
   "outputs": [
    {
     "name": "stderr",
     "output_type": "stream",
     "text": [
      "E:\\Users\\dbsrh\\Anaconda3\\envs\\pytorch\\lib\\site-packages\\ipykernel_launcher.py:17: UserWarning: Implicit dimension choice for log_softmax has been deprecated. Change the call to include dim=X as an argument.\n"
     ]
    },
    {
     "name": "stdout",
     "output_type": "stream",
     "text": [
      "training loss is  0.02 and training accuracy is 46476 / 60000    77.4600\n",
      "validation loss is  0.00 and validation accuracy is 9575 / 10000    95.7500\n",
      "training loss is  0.01 and training accuracy is 54351 / 60000    90.5850\n",
      "validation loss is  0.00 and validation accuracy is 9692 / 10000    96.9200\n",
      "training loss is  0.01 and training accuracy is 55509 / 60000    92.5150\n",
      "validation loss is  0.00 and validation accuracy is 9772 / 10000    97.7200\n",
      "training loss is  0.01 and training accuracy is 56096 / 60000    93.4933\n",
      "validation loss is  0.00 and validation accuracy is 9794 / 10000    97.9400\n",
      "training loss is  0.01 and training accuracy is 56519 / 60000    94.1983\n",
      "validation loss is  0.00 and validation accuracy is 9818 / 10000    98.1800\n",
      "training loss is  0.01 and training accuracy is 56711 / 60000    94.5183\n",
      "validation loss is  0.00 and validation accuracy is 9839 / 10000    98.3900\n",
      "training loss is  0.01 and training accuracy is 56924 / 60000    94.8733\n",
      "validation loss is  0.00 and validation accuracy is 9843 / 10000    98.4300\n",
      "training loss is  0.01 and training accuracy is 57098 / 60000    95.1633\n",
      "validation loss is  0.00 and validation accuracy is 9857 / 10000    98.5700\n",
      "training loss is  0.00 and training accuracy is 57310 / 60000    95.5167\n",
      "validation loss is  0.00 and validation accuracy is 9858 / 10000    98.5800\n",
      "training loss is  0.01 and training accuracy is 57305 / 60000    95.5083\n",
      "validation loss is  0.00 and validation accuracy is 9860 / 10000    98.6000\n",
      "training loss is  0.00 and training accuracy is 57464 / 60000    95.7733\n",
      "validation loss is  0.00 and validation accuracy is 9861 / 10000    98.6100\n",
      "training loss is  0.00 and training accuracy is 57534 / 60000    95.8900\n",
      "validation loss is  0.00 and validation accuracy is 9876 / 10000    98.7600\n",
      "training loss is  0.00 and training accuracy is 57632 / 60000    96.0533\n",
      "validation loss is  0.00 and validation accuracy is 9873 / 10000    98.7300\n",
      "training loss is  0.00 and training accuracy is 57596 / 60000    95.9933\n",
      "validation loss is  0.00 and validation accuracy is 9886 / 10000    98.8600\n",
      "training loss is  0.00 and training accuracy is 57697 / 60000    96.1617\n",
      "validation loss is  0.00 and validation accuracy is 9880 / 10000    98.8000\n",
      "training loss is  0.00 and training accuracy is 57712 / 60000    96.1867\n",
      "validation loss is  0.00 and validation accuracy is 9887 / 10000    98.8700\n",
      "training loss is  0.00 and training accuracy is 57738 / 60000    96.2300\n",
      "validation loss is  0.00 and validation accuracy is 9892 / 10000    98.9200\n",
      "training loss is  0.00 and training accuracy is 57817 / 60000    96.3617\n",
      "validation loss is  0.00 and validation accuracy is 9892 / 10000    98.9200\n",
      "training loss is  0.00 and training accuracy is 57799 / 60000    96.3317\n",
      "validation loss is  0.00 and validation accuracy is 9891 / 10000    98.9100\n"
     ]
    },
    {
     "data": {
      "text/plain": [
       "<matplotlib.legend.Legend at 0x20cb3748e48>"
      ]
     },
     "execution_count": 14,
     "metadata": {},
     "output_type": "execute_result"
    },
    {
     "name": "stderr",
     "output_type": "stream",
     "text": [
      "E:\\Users\\dbsrh\\Anaconda3\\envs\\pytorch\\lib\\site-packages\\matplotlib\\backends\\backend_agg.py:211: RuntimeWarning: Glyph 54617 missing from current font.\n",
      "  font.set_text(s, 0.0, flags=flags)\n",
      "E:\\Users\\dbsrh\\Anaconda3\\envs\\pytorch\\lib\\site-packages\\matplotlib\\backends\\backend_agg.py:211: RuntimeWarning: Glyph 49845 missing from current font.\n",
      "  font.set_text(s, 0.0, flags=flags)\n",
      "E:\\Users\\dbsrh\\Anaconda3\\envs\\pytorch\\lib\\site-packages\\matplotlib\\backends\\backend_agg.py:211: RuntimeWarning: Glyph 51221 missing from current font.\n",
      "  font.set_text(s, 0.0, flags=flags)\n",
      "E:\\Users\\dbsrh\\Anaconda3\\envs\\pytorch\\lib\\site-packages\\matplotlib\\backends\\backend_agg.py:211: RuntimeWarning: Glyph 54869 missing from current font.\n",
      "  font.set_text(s, 0.0, flags=flags)\n",
      "E:\\Users\\dbsrh\\Anaconda3\\envs\\pytorch\\lib\\site-packages\\matplotlib\\backends\\backend_agg.py:211: RuntimeWarning: Glyph 46020 missing from current font.\n",
      "  font.set_text(s, 0.0, flags=flags)\n",
      "E:\\Users\\dbsrh\\Anaconda3\\envs\\pytorch\\lib\\site-packages\\matplotlib\\backends\\backend_agg.py:211: RuntimeWarning: Glyph 44160 missing from current font.\n",
      "  font.set_text(s, 0.0, flags=flags)\n",
      "E:\\Users\\dbsrh\\Anaconda3\\envs\\pytorch\\lib\\site-packages\\matplotlib\\backends\\backend_agg.py:211: RuntimeWarning: Glyph 51613 missing from current font.\n",
      "  font.set_text(s, 0.0, flags=flags)\n",
      "E:\\Users\\dbsrh\\Anaconda3\\envs\\pytorch\\lib\\site-packages\\matplotlib\\backends\\backend_agg.py:180: RuntimeWarning: Glyph 54617 missing from current font.\n",
      "  font.set_text(s, 0, flags=flags)\n",
      "E:\\Users\\dbsrh\\Anaconda3\\envs\\pytorch\\lib\\site-packages\\matplotlib\\backends\\backend_agg.py:180: RuntimeWarning: Glyph 49845 missing from current font.\n",
      "  font.set_text(s, 0, flags=flags)\n",
      "E:\\Users\\dbsrh\\Anaconda3\\envs\\pytorch\\lib\\site-packages\\matplotlib\\backends\\backend_agg.py:180: RuntimeWarning: Glyph 51221 missing from current font.\n",
      "  font.set_text(s, 0, flags=flags)\n",
      "E:\\Users\\dbsrh\\Anaconda3\\envs\\pytorch\\lib\\site-packages\\matplotlib\\backends\\backend_agg.py:180: RuntimeWarning: Glyph 54869 missing from current font.\n",
      "  font.set_text(s, 0, flags=flags)\n",
      "E:\\Users\\dbsrh\\Anaconda3\\envs\\pytorch\\lib\\site-packages\\matplotlib\\backends\\backend_agg.py:180: RuntimeWarning: Glyph 46020 missing from current font.\n",
      "  font.set_text(s, 0, flags=flags)\n",
      "E:\\Users\\dbsrh\\Anaconda3\\envs\\pytorch\\lib\\site-packages\\matplotlib\\backends\\backend_agg.py:180: RuntimeWarning: Glyph 44160 missing from current font.\n",
      "  font.set_text(s, 0, flags=flags)\n",
      "E:\\Users\\dbsrh\\Anaconda3\\envs\\pytorch\\lib\\site-packages\\matplotlib\\backends\\backend_agg.py:180: RuntimeWarning: Glyph 51613 missing from current font.\n",
      "  font.set_text(s, 0, flags=flags)\n"
     ]
    },
    {
     "data": {
      "image/png": "[encoded data removed]",
      "text/plain": [
       "<Figure size 432x288 with 1 Axes>"
      ]
     },
     "metadata": {
      "needs_background": "light"
     },
     "output_type": "display_data"
    }
   ],
   "source": [
    "transformation = transforms.Compose([\n",
    "    transforms.ToTensor(),\n",
    "    transforms.Normalize((0.1307, ), (0.3081, ))\n",
    "])\n",
    "\n",
    "train_dataset = datasets.MNIST('data/', train=True, transform=transformation, download=True)\n",
    "test_dataset = datasets.MNIST('data/', train=False, transform=transformation, download=True)\n",
    "    \n",
    "train_loader = torch.utils.data.DataLoader(train_dataset, batch_size=32, shuffle=True)\n",
    "test_loader = torch.utils.data.DataLoader(test_dataset, batch_size=32, shuffle=True)\n",
    "\n",
    "model = Network()\n",
    "if torch.cuda.is_available():\n",
    "    model.cuda()\n",
    "    \n",
    "optimizer = torch.optim.SGD(model.parameters(), lr=0.01, momentum=0.5)\n",
    "train_losses, train_accuracy = [], []\n",
    "val_losses, val_accuracy = [], []\n",
    "for epoch in range(1, 20):\n",
    "    epoch_loss, epoch_accuracy = fit(epoch, model, train_loader, phase='training')\n",
    "    val_epoch_loss, val_epoch_accuracy = fit(epoch, model, test_loader, phase='validation')\n",
    "    train_losses.append(epoch_loss)\n",
    "    train_accuracy.append(epoch_accuracy)\n",
    "    val_losses.append(val_epoch_loss)\n",
    "    val_accuracy.append(val_epoch_accuracy)\n",
    "    \n",
    "plt.plot(range(1, len(train_accuracy) + 1), train_accuracy, 'bo', label = '학습 정확도')\n",
    "plt.plot(range(1, len(val_accuracy) + 1), val_accuracy, 'r', label = '검증 정확도')\n",
    "\n",
    "plt.legend()"
   ]
  },
  {
   "cell_type": "code",
   "execution_count": 2,
   "metadata": {},
   "outputs": [
    {
     "ename": "SyntaxError",
     "evalue": "can't use starred expression here (<ipython-input-2-0b18e8b7a1ca>, line 4)",
     "output_type": "error",
     "traceback": [
      "\u001b[1;36m  File \u001b[1;32m\"<ipython-input-2-0b18e8b7a1ca>\"\u001b[1;36m, line \u001b[1;32m4\u001b[0m\n\u001b[1;31mSyntaxError\u001b[0m\u001b[1;31m:\u001b[0m can't use starred expression here\n"
     ]
    }
   ],
   "source": []
  },
  {
   "cell_type": "code",
   "execution_count": null,
   "metadata": {},
   "outputs": [],
   "source": []
  }
 ],
 "metadata": {
  "kernelspec": {
   "display_name": "Python 3",
   "language": "python",
   "name": "python3"
  },
  "language_info": {
   "codemirror_mode": {
    "name": "ipython",
    "version": 3
   },
   "file_extension": ".py",
   "mimetype": "text/x-python",
   "name": "python",
   "nbconvert_exporter": "python",
   "pygments_lexer": "ipython3",
   "version": "3.7.6"
  }
 },
 "nbformat": 4,
 "nbformat_minor": 4
}
