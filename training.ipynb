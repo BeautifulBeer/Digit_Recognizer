{
 "cells": [
  {
   "cell_type": "code",
   "execution_count": 1,
   "metadata": {},
   "outputs": [],
   "source": [
    "import torch\n",
    "import torch.nn.functional as F"
   ]
  },
  {
   "cell_type": "code",
   "execution_count": null,
   "metadata": {},
   "outputs": [],
   "source": [
    "def training(model, datasets, optimizer, scheduler, epochs=10):\n",
    "    phases = ['valid']\n",
    "    \n",
    "    training_loss = []\n",
    "    validation_loss = []\n",
    "    \n",
    "    for epoch in range(epochs):                \n",
    "        print(f'-------------- Epoch {epoch} --------------')\n",
    "        epoch_corrects = 0\n",
    "        epoch_losses = 0.0\n",
    "        \n",
    "        for phase in phases:\n",
    "            if phase == 'train':\n",
    "                model.train()\n",
    "                optimizer.zero_grad()\n",
    "                \n",
    "            if phase == 'valid':\n",
    "                model.eval()\n",
    "                \n",
    "            for data in datasets[phase]:\n",
    "                inputs, labels = data\n",
    "                if torch.cuda.is_available():\n",
    "                    inputs, labels = inputs.cuda(), labels.cuda()\n",
    "            \n",
    "                output = model(inputs)\n",
    "                loss = F.nll_loss(output, labels)\n",
    "                print(output)\n",
    "                print('-----------------')\n",
    "                print(labels)\n",
    "                print('-----------------')\n",
    "                print(loss)\n",
    "                \n",
    "                if phase == 'train':\n",
    "                    loss.backward()\n",
    "                    optimizer.step()\n",
    "        \n",
    "        scheduler.step()\n",
    "            \n",
    "        "
   ]
  }
 ],
 "metadata": {
  "kernelspec": {
   "display_name": "Python 3",
   "language": "python",
   "name": "python3"
  },
  "language_info": {
   "codemirror_mode": {
    "name": "ipython",
    "version": 3
   },
   "file_extension": ".py",
   "mimetype": "text/x-python",
   "name": "python",
   "nbconvert_exporter": "python",
   "pygments_lexer": "ipython3",
   "version": "3.7.6"
  }
 },
 "nbformat": 4,
 "nbformat_minor": 4
}
