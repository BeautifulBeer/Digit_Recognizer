{
 "cells": [
  {
   "cell_type": "code",
   "execution_count": 2,
   "metadata": {},
   "outputs": [],
   "source": [
    "import torch\n",
    "import time\n",
    "import torch.nn.functional as F"
   ]
  },
  {
   "cell_type": "code",
   "execution_count": 1,
   "metadata": {},
   "outputs": [],
   "source": [
    "def training(model, datasets, datasets_size, optimizer, scheduler, epochs=10):\n",
    "    # Conduct train and valid per a epoch\n",
    "    phases = ['train', 'valid']\n",
    "    \n",
    "    best_valid_accuracy = -1.0\n",
    "    \n",
    "    training_loss = []\n",
    "    validation_loss = []\n",
    "        \n",
    "    for epoch in range(epochs):                \n",
    "        print(f'-------------- Epoch {epoch} --------------')        \n",
    "        \n",
    "        for phase in phases:\n",
    "            epoch_begin = time.time()\n",
    "            epoch_accuracy = 0.0\n",
    "            epoch_losses = 0.0\n",
    "            \n",
    "            if phase == 'train':\n",
    "                model.train()\n",
    "                \n",
    "            if phase == 'valid':\n",
    "                model.eval()\n",
    "                \n",
    "            for data in datasets[phase]:\n",
    "                # Init weights for each batch dataset\n",
    "                if phase == 'train':\n",
    "                    optimizer.zero_grad()\n",
    "                    \n",
    "                inputs, labels = data\n",
    "                # to use nll_loss, labels should be LongTensor\n",
    "                labels = labels.type(torch.LongTensor)\n",
    "                if torch.cuda.is_available():\n",
    "                    inputs, labels = inputs.cuda(), labels.cuda()\n",
    "                \n",
    "                output = model(inputs)\n",
    "                _, preds = torch.max(output, 1)\n",
    "                loss = F.nll_loss(output, labels)\n",
    "                \n",
    "                # add .detach() because of the out of memory issue. (grow computational graph)\n",
    "                epoch_losses += loss.sum().detach()\n",
    "                epoch_accuracy += torch.sum(preds == labels).detach().item()\n",
    "                if phase == 'train':\n",
    "                    loss.backward()\n",
    "                    optimizer.step()\n",
    "                        \n",
    "            epoch_losses = epoch_losses / datasets_size[phase]\n",
    "            epoch_accuracy = 100. * epoch_accuracy / datasets_size[phase]\n",
    "            print(f'{phase} Epoch Losses : {epoch_losses:.5f} :: Accuracy : {epoch_accuracy:.5f} :: Time : {(time.time() - epoch_begin):.4f}s')\n",
    "            \n",
    "            if phase == 'train':\n",
    "                training_loss.append(epoch_losses)\n",
    "            if phase == 'valid':\n",
    "                if best_valid_accuracy < epoch_accuracy:\n",
    "                    best_valid_accuracy = epoch_accuracy\n",
    "                    torch.save(model.state_dict(), 'final_model.pth')\n",
    "                validation_loss.append(epoch_losses)\n",
    "        \n",
    "        scheduler.step()\n",
    "    return training_loss, validation_loss"
   ]
  }
 ],
 "metadata": {
  "kernelspec": {
   "display_name": "Python 3",
   "language": "python",
   "name": "python3"
  },
  "language_info": {
   "codemirror_mode": {
    "name": "ipython",
    "version": 3
   },
   "file_extension": ".py",
   "mimetype": "text/x-python",
   "name": "python",
   "nbconvert_exporter": "python",
   "pygments_lexer": "ipython3",
   "version": "3.7.6"
  }
 },
 "nbformat": 4,
 "nbformat_minor": 4
}
