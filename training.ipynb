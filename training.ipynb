{
 "cells": [
  {
   "cell_type": "code",
   "execution_count": 1,
   "metadata": {},
   "outputs": [],
   "source": [
    "import torch\n",
    "import torch.nn.functional as F"
   ]
  },
  {
   "cell_type": "code",
   "execution_count": 2,
   "metadata": {},
   "outputs": [],
   "source": [
    "def training(model, datasets, optimizer, scheduler, epochs=10):\n",
    "    phases = ['train', 'valid']\n",
    "    \n",
    "    training_loss = []\n",
    "    validation_loss = []\n",
    "    \n",
    "    dataset_size = {'train' : len(datasets['train'].dataset), 'valid' : len(datasets['valid'].dataset)}\n",
    "    \n",
    "    for epoch in range(epochs):                \n",
    "        print(f'-------------- Epoch {epoch} --------------')        \n",
    "        \n",
    "        for phase in phases:\n",
    "            \n",
    "            epoch_accuracy = 0.0\n",
    "            epoch_losses = 0.0\n",
    "            \n",
    "            if phase == 'train':\n",
    "                model.train()\n",
    "                optimizer.zero_grad()\n",
    "                \n",
    "            if phase == 'valid':\n",
    "                model.eval()\n",
    "                \n",
    "            for data in datasets[phase]:\n",
    "                inputs, labels = data\n",
    "                labels = labels.type(torch.LongTensor)\n",
    "                if torch.cuda.is_available():\n",
    "                    inputs, labels = inputs.cuda(), labels.cuda()\n",
    "                \n",
    "                output = model(inputs)\n",
    "                _, preds = torch.max(output, 1)\n",
    "                loss = F.nll_loss(output, labels, reduction='none')\n",
    "                \n",
    "                epoch_losses += loss.sum()\n",
    "                epoch_accuracy += torch.sum(preds == labels).item()\n",
    "                \n",
    "                if phase == 'train':\n",
    "                    loss.sum().backward()\n",
    "                    optimizer.step()\n",
    "                        \n",
    "            epoch_losses = epoch_losses / dataset_size[phase]\n",
    "            epoch_accuracy = epoch_accuracy / dataset_size[phase]\n",
    "            print(f'{phase} Epoch Losses : {epoch_losses:.4f}')\n",
    "            print(f'{phase} Epoch Accuracy : {epoch_accuracy:.4f}')\n",
    "            \n",
    "            if phase == 'train':\n",
    "                training_loss.append(epoch_losses)\n",
    "            if phase == 'valid':\n",
    "                validation_loss.append(epoch_losses)\n",
    "        \n",
    "        scheduler.step()\n",
    "    return training_loss, validation_loss"
   ]
  },
  {
   "cell_type": "code",
   "execution_count": null,
   "metadata": {},
   "outputs": [],
   "source": []
  }
 ],
 "metadata": {
  "kernelspec": {
   "display_name": "Python 3",
   "language": "python",
   "name": "python3"
  },
  "language_info": {
   "codemirror_mode": {
    "name": "ipython",
    "version": 3
   },
   "file_extension": ".py",
   "mimetype": "text/x-python",
   "name": "python",
   "nbconvert_exporter": "python",
   "pygments_lexer": "ipython3",
   "version": "3.7.6"
  }
 },
 "nbformat": 4,
 "nbformat_minor": 4
}
