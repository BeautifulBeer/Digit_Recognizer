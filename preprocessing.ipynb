{
 "cells": [
  {
   "cell_type": "code",
   "execution_count": 1,
   "metadata": {},
   "outputs": [],
   "source": [
    "import torch\n",
    "import os\n",
    "from torch.utils.data import Dataset"
   ]
  },
  {
   "cell_type": "code",
   "execution_count": 2,
   "metadata": {},
   "outputs": [],
   "source": [
    "class DigitDataset(Dataset):\n",
    "    def __init__(self, csv_data, transform, phase='training'):\n",
    "        self.csv_data = csv_data\n",
    "        self.transform = transform\n",
    "        raw_tensor = torch.tensor(csv_data)\n",
    "        self.phase = phase\n",
    "        if self.phase == 'training':\n",
    "            self.data, self.labels = raw_tensor[:, 1:].view(-1, 28, 28), raw_tensor[:, 0]\n",
    "        if self.phase == 'testing':\n",
    "            self.data = raw_tensor.view(-1, 28, 28)\n",
    "                \n",
    "    def __len__(self):\n",
    "        return len(self.data)\n",
    "    \n",
    "    def __getitem__(self, idx):\n",
    "        if self.phase == 'training':\n",
    "            return self.transform(self.data[idx]), self.labels[idx]\n",
    "        if self.phase == 'testing':\n",
    "            return self.transform(self.data[idx]), (idx+1)\n",
    "        "
   ]
  }
 ],
 "metadata": {
  "kernelspec": {
   "display_name": "Python 3",
   "language": "python",
   "name": "python3"
  },
  "language_info": {
   "codemirror_mode": {
    "name": "ipython",
    "version": 3
   },
   "file_extension": ".py",
   "mimetype": "text/x-python",
   "name": "python",
   "nbconvert_exporter": "python",
   "pygments_lexer": "ipython3",
   "version": "3.7.6"
  }
 },
 "nbformat": 4,
 "nbformat_minor": 4
}
